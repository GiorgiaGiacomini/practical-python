{
 "cells": [
  {
   "cell_type": "code",
   "execution_count": 3,
   "metadata": {},
   "outputs": [
    {
     "name": "stdout",
     "output_type": "stream",
     "text": [
      "1 60.0\n",
      "2 36.0\n",
      "3 21.6\n",
      "4 12.96\n",
      "5 7.776\n",
      "6 4.6656\n",
      "7 2.7994\n",
      "8 1.6796\n",
      "9 1.0078\n",
      "10 0.6047\n"
     ]
    }
   ],
   "source": [
    "#A rubber ball is dropped from a height of 100 meters and each time it hits the ground, \n",
    "#it bounces back up to 3/5 the height it fell. \n",
    "#Write a program bounce.py that prints a table showing the height of the first 10 bounces.\n",
    "\n",
    "\n",
    "h = 100 #meters\n",
    "bounce = 1\n",
    "while bounce <= 10:\n",
    "    h = h * (3/5)\n",
    "    print(bounce, round(h, 4))\n",
    "    bounce += 1\n"
   ]
  }
 ],
 "metadata": {
  "kernelspec": {
   "display_name": "Python 3",
   "language": "python",
   "name": "python3"
  },
  "language_info": {
   "codemirror_mode": {
    "name": "ipython",
    "version": 3
   },
   "file_extension": ".py",
   "mimetype": "text/x-python",
   "name": "python",
   "nbconvert_exporter": "python",
   "pygments_lexer": "ipython3",
   "version": "3.8.3"
  }
 },
 "nbformat": 4,
 "nbformat_minor": 4
}
