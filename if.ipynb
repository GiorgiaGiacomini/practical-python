{
 "cells": [
  {
   "cell_type": "code",
   "execution_count": 4,
   "metadata": {},
   "outputs": [
    {
     "name": "stdout",
     "output_type": "stream",
     "text": [
      "Computer says yes\n"
     ]
    }
   ],
   "source": [
    "#Conditionals\n",
    "\n",
    "#The if statement is used to execute a conditional:\n",
    "a = 5\n",
    "b = 7\n",
    "\n",
    "if a > b:\n",
    "    print('Computer says no')\n",
    "else:\n",
    "    print('Computer says yes')"
   ]
  },
  {
   "cell_type": "code",
   "execution_count": 5,
   "metadata": {},
   "outputs": [
    {
     "name": "stdout",
     "output_type": "stream",
     "text": [
      "Computer says maybe\n"
     ]
    }
   ],
   "source": [
    "#You can check for multiple conditions by adding extra checks using elif.\n",
    "\n",
    "if a > b:\n",
    "    print('Computer says no')\n",
    "elif a == b:\n",
    "    print('Computer says yes')\n",
    "else:\n",
    "    print('Computer says maybe')\n",
    "\n"
   ]
  },
  {
   "cell_type": "code",
   "execution_count": 6,
   "metadata": {},
   "outputs": [
    {
     "name": "stdout",
     "output_type": "stream",
     "text": [
      "Computer says false\n"
     ]
    }
   ],
   "source": [
    "#pass statement\n",
    "\n",
    "#Sometimes you need to specify an empty code block. The keyword pass is used for it.\n",
    "\n",
    "if a > b:\n",
    "    pass\n",
    "else:\n",
    "    print('Computer says false')"
   ]
  }
 ],
 "metadata": {
  "kernelspec": {
   "display_name": "Python 3",
   "language": "python",
   "name": "python3"
  },
  "language_info": {
   "codemirror_mode": {
    "name": "ipython",
    "version": 3
   },
   "file_extension": ".py",
   "mimetype": "text/x-python",
   "name": "python",
   "nbconvert_exporter": "python",
   "pygments_lexer": "ipython3",
   "version": "3.8.3"
  }
 },
 "nbformat": 4,
 "nbformat_minor": 4
}
