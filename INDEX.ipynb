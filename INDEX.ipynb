{
 "cells": [
  {
   "cell_type": "code",
   "execution_count": 2,
   "metadata": {},
   "outputs": [],
   "source": [
    "#String Indexing\n",
    "\n",
    "#Strings work like an array for accessing individual characters. \n",
    "#You use an integer index, starting at 0. Negative indices specify a position relative to the end of the string.\n",
    "\n",
    "a = 'Hello world'\n",
    "b = a[0]          # 'H'\n",
    "c = a[4]          # 'o'\n",
    "d = a[-1]         # 'd' (end of string)\n",
    "\n",
    "#You can also slice or select substrings specifying a range of indices with :\n",
    "\n",
    "d = a[:5]     # 'Hello's = '  Hello '\n",
    "t = s.strip()     # 'Hello'\n",
    "e = a[6:]     # 'world'\n",
    "f = a[3:8]    # 'lo wo'\n",
    "g = a[-5:]    # 'world'"
   ]
  },
  {
   "cell_type": "code",
   "execution_count": 4,
   "metadata": {},
   "outputs": [
    {
     "name": "stdout",
     "output_type": "stream",
     "text": [
      "world\n",
      "lo wo\n"
     ]
    }
   ],
   "source": [
    "print(g)\n",
    "print(f)\n"
   ]
  },
  {
   "cell_type": "code",
   "execution_count": 10,
   "metadata": {},
   "outputs": [
    {
     "name": "stdout",
     "output_type": "stream",
     "text": [
      " yes, is True . well done!\n"
     ]
    }
   ],
   "source": [
    "#String operations\n",
    "\n",
    "#Concatenation, length, membership and replication.\n",
    "\n",
    "# Concatenation (+)\n",
    "a = 'Hello' + 'World'   # 'HelloWorld'\n",
    "b = 'Say ' + a          # 'Say HelloWorld'\n",
    "\n",
    "# Length (len)\n",
    "s = 'Hello'\n",
    "len(s)                  # 5\n",
    "\n",
    "# Membership test (`in`, `not in`)\n",
    "t = 'e' in s            # True\n",
    "f = 'x' in s            # False\n",
    "g = 'hi' not in s       # True\n",
    "n= \"el\" in s\n",
    "# Replication (s * n)\n",
    "rep = s * 5             # 'HelloHelloHelloHelloHello'\n",
    "\n",
    "print(\" yes, is\", n, \". well done!\")"
   ]
  },
  {
   "cell_type": "code",
   "execution_count": 15,
   "metadata": {},
   "outputs": [
    {
     "name": "stdout",
     "output_type": "stream",
     "text": [
      "  Hello \n",
      "Hello\n"
     ]
    }
   ],
   "source": [
    "s = '  Hello '\n",
    "print(s)\n",
    "t = s.strip()     # 'Hello'\n",
    "print(t)"
   ]
  },
  {
   "cell_type": "code",
   "execution_count": 16,
   "metadata": {},
   "outputs": [
    {
     "name": "stdout",
     "output_type": "stream",
     "text": [
      "Hello\n",
      "hello\n",
      "HELLO\n"
     ]
    }
   ],
   "source": [
    "s = 'Hello'\n",
    "l = s.lower()     # 'hello'\n",
    "u = s.upper()     # 'HELLO'\n",
    "print(s)\n",
    "print(l)\n",
    "print(u)\n"
   ]
  },
  {
   "cell_type": "code",
   "execution_count": 17,
   "metadata": {},
   "outputs": [
    {
     "name": "stdout",
     "output_type": "stream",
     "text": [
      "Hallo world\n"
     ]
    }
   ],
   "source": [
    "#Example: Replacing text.\n",
    "s = 'Hello world'\n",
    "t = s.replace('Hello' , 'Hallo')   # 'Hallo world'\n",
    "print(t)"
   ]
  },
  {
   "cell_type": "code",
   "execution_count": null,
   "metadata": {},
   "outputs": [],
   "source": [
    "#More string methods:\n",
    "\n",
    "#Strings have a wide variety of other methods for testing and manipulating the text data.\n",
    "#This is a small sample of methods:\n",
    "\n",
    "s.endswith(suffix)     # Check if string ends with suffix\n",
    "s.find(t)              # First occurrence of t in s\n",
    "s.index(t)             # First occurrence of t in s\n",
    "s.isalpha()            # Check if characters are alphabetic\n",
    "s.isdigit()            # Check if characters are numeric\n",
    "s.islower()            # Check if characters are lower-case\n",
    "s.isupper()            # Check if characters are upper-case\n",
    "s.join(slist)          # Join a list of strings using s as delimiter\n",
    "s.lower()              # Convert to lower case\n",
    "s.replace(old,new)     # Replace text\n",
    "s.rfind(t)             # Search for t from end of string\n",
    "s.rindex(t)            # Search for t from end of string\n",
    "s.split([delim])       # Split string into list of substrings\n",
    "s.startswith(prefix)   # Check if string starts with prefix\n",
    "s.strip()              # Strip leading/trailing space\n",
    "s.upper()              # Convert to upper case"
   ]
  }
 ],
 "metadata": {
  "kernelspec": {
   "display_name": "Python 3",
   "language": "python",
   "name": "python3"
  },
  "language_info": {
   "codemirror_mode": {
    "name": "ipython",
    "version": 3
   },
   "file_extension": ".py",
   "mimetype": "text/x-python",
   "name": "python",
   "nbconvert_exporter": "python",
   "pygments_lexer": "ipython3",
   "version": "3.8.3"
  }
 },
 "nbformat": 4,
 "nbformat_minor": 4
}
