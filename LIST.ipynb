{
 "cells": [
  {
   "cell_type": "code",
   "execution_count": 2,
   "metadata": {},
   "outputs": [],
   "source": [
    "#Creating a List\n",
    "\n",
    "#Use square brackets to define a list literal:\n",
    "\n",
    "names = [ 'Elwood', 'Jake', 'Curtis' ]\n",
    "nums = [ 39, 38, 42, 65, 111]"
   ]
  },
  {
   "cell_type": "code",
   "execution_count": 4,
   "metadata": {},
   "outputs": [
    {
     "name": "stdout",
     "output_type": "stream",
     "text": [
      "GOOG,100,490.10\n"
     ]
    }
   ],
   "source": [
    "#Sometimes lists are created by other methods. \n",
    "#For example, a string can be split into a list using the split() method:\n",
    "\n",
    "line = 'GOOG,100,490.10'\n",
    "row = line.split(',')\n",
    "print(line)"
   ]
  },
  {
   "cell_type": "code",
   "execution_count": 5,
   "metadata": {},
   "outputs": [],
   "source": [
    "names.append('Murphy')    # Adds at end\n",
    "names.insert(2, 'Aretha') # Inserts in middle"
   ]
  },
  {
   "cell_type": "code",
   "execution_count": 6,
   "metadata": {},
   "outputs": [
    {
     "name": "stdout",
     "output_type": "stream",
     "text": [
      "['Elwood', 'Jake', 'Aretha', 'Curtis', 'Murphy']\n"
     ]
    }
   ],
   "source": [
    "print(names)"
   ]
  },
  {
   "cell_type": "code",
   "execution_count": 7,
   "metadata": {},
   "outputs": [
    {
     "data": {
      "text/plain": [
       "[1, 2, 3, 'a', 'b']"
      ]
     },
     "execution_count": 7,
     "metadata": {},
     "output_type": "execute_result"
    }
   ],
   "source": [
    "#Use + to concatenate lists:\n",
    "s = [1, 2, 3]\n",
    "t = ['a', 'b']\n",
    "s + t "
   ]
  },
  {
   "cell_type": "code",
   "execution_count": 14,
   "metadata": {},
   "outputs": [
    {
     "data": {
      "text/plain": [
       "3"
      ]
     },
     "execution_count": 14,
     "metadata": {},
     "output_type": "execute_result"
    }
   ],
   "source": [
    "#Lists are indexed by integers. Starting at 0.\n",
    "names = [ 'Elwood', 'Jake', 'Curtis' ]\n",
    "\n",
    "names[0]  # 'Elwood'\n",
    "names[1]  # 'Jake'\n",
    "names[2]  # 'Curtis'\n",
    "\n",
    "#You can change any item in a list.\n",
    "\n",
    "names[1] = 'Joliet Jake'\n",
    "names                     # [ 'Elwood', 'Joliet Jake', 'Curtis' ]\n",
    "#Length of the list\n",
    "names = ['Elwood','Jake','Curtis']\n",
    "len(names)  # 3"
   ]
  },
  {
   "cell_type": "code",
   "execution_count": 9,
   "metadata": {},
   "outputs": [
    {
     "data": {
      "text/plain": [
       "True"
      ]
     },
     "execution_count": 9,
     "metadata": {},
     "output_type": "execute_result"
    }
   ],
   "source": [
    "#Membership test (in, not in).\n",
    "'Elwood' in names       # True\n",
    "'Britney' not in names  # True"
   ]
  },
  {
   "cell_type": "code",
   "execution_count": 10,
   "metadata": {},
   "outputs": [
    {
     "data": {
      "text/plain": [
       "2"
      ]
     },
     "execution_count": 10,
     "metadata": {},
     "output_type": "execute_result"
    }
   ],
   "source": [
    "#List Iteration and Search\n",
    "\n",
    "#Use for to iterate over the list contents.\n",
    "\n",
    "for name in names:\n",
    "    # use name\n",
    "    # e.g. print(name)\n",
    "    ...\n",
    "#This is similar to a foreach statement from other programming languages.\n",
    "\n",
    "#To find the position of something quickly, use index().\n",
    "\n",
    "names = ['Elwood','Jake','Curtis']\n",
    "names.index('Curtis')   # 2\n",
    "#If the element is present more than once, index() will return the index of the first occurrence.\n",
    "\n",
    "#If the element is not found, it will raise a ValueError exception.\n",
    "\n"
   ]
  },
  {
   "cell_type": "code",
   "execution_count": 16,
   "metadata": {},
   "outputs": [],
   "source": [
    "#List Removal\n",
    "\n",
    "#You can remove items either by element value or by index:\n",
    "\n",
    "# Using the value\n",
    "names.remove('Curtis')\n",
    "\n",
    "# Using the index\n",
    "del names[1]\n",
    "\n"
   ]
  },
  {
   "cell_type": "code",
   "execution_count": 17,
   "metadata": {},
   "outputs": [
    {
     "name": "stdout",
     "output_type": "stream",
     "text": [
      "['Elwood']\n"
     ]
    }
   ],
   "source": [
    "print(names)"
   ]
  },
  {
   "cell_type": "code",
   "execution_count": 18,
   "metadata": {},
   "outputs": [],
   "source": [
    "#List Sorting\n",
    "\n",
    "#Lists can be sorted \"in-place\".\n",
    "\n",
    "\n",
    "s = [10, 1, 7, 3]\n",
    "s.sort()                    # [1, 3, 7, 10]\n",
    "\n",
    "# Reverse order\n",
    "s = [10, 1, 7, 3]\n",
    "s.sort(reverse=True)        # [10, 7, 3, 1]\n",
    "\n",
    "# It works with any ordered data\n",
    "s = ['foo', 'bar', 'spam']\n",
    "s.sort()                    # ['bar', 'foo', 'spam']\n"
   ]
  }
 ],
 "metadata": {
  "kernelspec": {
   "display_name": "Python 3",
   "language": "python",
   "name": "python3"
  },
  "language_info": {
   "codemirror_mode": {
    "name": "ipython",
    "version": 3
   },
   "file_extension": ".py",
   "mimetype": "text/x-python",
   "name": "python",
   "nbconvert_exporter": "python",
   "pygments_lexer": "ipython3",
   "version": "3.8.3"
  }
 },
 "nbformat": 4,
 "nbformat_minor": 4
}
