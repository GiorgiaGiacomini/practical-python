{
 "cells": [
  {
   "cell_type": "code",
   "execution_count": 2,
   "metadata": {},
   "outputs": [
    {
     "name": "stdout",
     "output_type": "stream",
     "text": [
      "Total paid 967279.5999999957\n"
     ]
    }
   ],
   "source": [
    "#Dave has decided to take out a 30-year fixed rate mortgage of $500,000 with Guido’s Mortgage, Stock Investment,\n",
    "#and Bitcoin trading corporation.\n",
    "#The interest rate is 5% and the monthly payment is $2684.11.\n",
    "\n",
    "rate = 500000.0\n",
    "interest_rate = 0.05\n",
    "payment= 2684.11\n",
    "total_paid= 0.0\n",
    "month=0\n",
    "extra_payment = 1000.0\n",
    "\n",
    "while rate > 0:\n",
    "    rate = rate * (1+interest_rate/12) - payment\n",
    "    total_paid = total_paid + payment\n",
    "\n",
    "print('Total paid', total_paid)"
   ]
  }
 ],
 "metadata": {
  "kernelspec": {
   "display_name": "Python 3",
   "language": "python",
   "name": "python3"
  },
  "language_info": {
   "codemirror_mode": {
    "name": "ipython",
    "version": 3
   },
   "file_extension": ".py",
   "mimetype": "text/x-python",
   "name": "python",
   "nbconvert_exporter": "python",
   "pygments_lexer": "ipython3",
   "version": "3.8.3"
  }
 },
 "nbformat": 4,
 "nbformat_minor": 4
}
